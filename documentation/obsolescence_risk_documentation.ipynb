{
 "cells": [
  {
   "cell_type": "markdown",
   "metadata": {},
   "source": [
    "### __Obsolescence Risk Machine Learning Model__"
   ]
  },
  {
   "cell_type": "markdown",
   "metadata": {},
   "source": [
    "__Load and Prepare the Dataset__\n",
    "The dataset is loaded from a Feather file. Obsolete items are excluded based on months_no_sale, and a new binary target variable obsolescence_dummy is created."
   ]
  },
  {
   "cell_type": "code",
   "execution_count": null,
   "metadata": {},
   "outputs": [],
   "source": [
    "df = pd.read_feather(\"/Users/skylerwilson/Desktop/PartsWise/Data/Processed/parts_data.feather\")\n",
    "\n",
    "# Exclude obsolete items and assign obsolescence_dummy\n",
    "df = df[df['months_no_sale'] < 12].copy()\n",
    "df['obsolescence_dummy'] = np.where(df['months_no_sale'] >= 6, 1, 0)\n"
   ]
  },
  {
   "cell_type": "markdown",
   "metadata": {},
   "source": [
    "__Purpose:__ Segment data using a 6 month binary classifier because 6 months would represent the 50% mark for obsolescence risk"
   ]
  },
  {
   "cell_type": "markdown",
   "metadata": {},
   "source": [
    "--------------------------------------------------------------------------------------------------------------------------------------------------------------------------------"
   ]
  },
  {
   "cell_type": "markdown",
   "metadata": {},
   "source": []
  }
 ],
 "metadata": {
  "language_info": {
   "name": "python"
  }
 },
 "nbformat": 4,
 "nbformat_minor": 2
}
